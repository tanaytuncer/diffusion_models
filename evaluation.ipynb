{
 "cells": [
  {
   "cell_type": "code",
   "execution_count": 59,
   "metadata": {},
   "outputs": [
    {
     "name": "stderr",
     "output_type": "stream",
     "text": [
      "/Users/tanaytuncer/.local/share/virtualenvs/tanaytuncer-3yiFbWzj/lib/python3.9/site-packages/urllib3/__init__.py:34: NotOpenSSLWarning:\n",
      "\n",
      "urllib3 v2 only supports OpenSSL 1.1.1+, currently the 'ssl' module is compiled with 'LibreSSL 2.8.3'. See: https://github.com/urllib3/urllib3/issues/3020\n",
      "\n"
     ]
    }
   ],
   "source": [
    "import numpy as np\n",
    "import matplotlib.pyplot as plt\n",
    "\n",
    "import torch\n",
    "from torch.optim import Adam\n",
    "from torch.utils.data import DataLoader\n",
    "from torchvision import datasets, transforms, utils\n",
    "\n",
    "from Unet import UNet\n",
    "from utilities import mse_loss\n",
    "from evaluate import reverse_diffusion, transform_img\n",
    "\n",
    "from torchmetrics.image.inception import InceptionScore\n",
    "\n",
    "from tqdm import tqdm\n"
   ]
  },
  {
   "cell_type": "code",
   "execution_count": null,
   "metadata": {},
   "outputs": [],
   "source": [
    "transform = transforms.Compose([\n",
    "    transforms.ToTensor(),\n",
    "    transforms.Normalize((0.5, 0.5, 0.5), (0.5, 0.5, 0.5)) \n",
    "])\n",
    "\n",
    "train_data = datasets.CIFAR10(root='./data', train=True, download=True, transform=transform)"
   ]
  },
  {
   "cell_type": "code",
   "execution_count": null,
   "metadata": {},
   "outputs": [],
   "source": [
    "train_data"
   ]
  },
  {
   "cell_type": "code",
   "execution_count": null,
   "metadata": {},
   "outputs": [],
   "source": [
    "device = torch.device('cuda' if torch.cuda.is_available() else 'cpu')\n",
    "print('Using device:', device)\n",
    "\n",
    "if device.type == 'cuda':\n",
    "    print(torch.cuda.get_device_name(0))\n",
    "    print('Memory Usage:')\n",
    "    print('Allocated:', round(torch.cuda.memory_allocated(0)/1024**3,1), 'GB')\n",
    "    print('Cached:   ', round(torch.cuda.memory_reserved(0)/1024**3,1), 'GB')"
   ]
  },
  {
   "cell_type": "code",
   "execution_count": null,
   "metadata": {},
   "outputs": [],
   "source": [
    "from torch.utils.data import Subset\n",
    "\n",
    "n = 2000\n",
    "n_batch = 64\n",
    "\n",
    "T = 20\n",
    "\n",
    "subset = Subset(train_data, range(n))\n",
    "\n",
    "X_train_loader = DataLoader(subset, batch_size=n_batch, shuffle=True, drop_last=True)\n",
    "\n",
    "data = iter(X_train_loader)\n",
    "images, labels = next(data)"
   ]
  },
  {
   "cell_type": "code",
   "execution_count": null,
   "metadata": {},
   "outputs": [],
   "source": [
    "def imshow(img):\n",
    "    img = img / 2 + 0.5   \n",
    "    npimg = img.numpy()\n",
    "    plt.imshow(np.transpose(npimg, (1, 2, 0)))\n",
    "\n",
    "fig = plt.figure(figsize=(6, 6))\n",
    "for i in range(9):\n",
    "    ax = fig.add_subplot(3, 3, i + 1, xticks=[], yticks=[])\n",
    "    imshow(images[i])\n",
    "\n",
    "plt.show()"
   ]
  },
  {
   "cell_type": "code",
   "execution_count": null,
   "metadata": {},
   "outputs": [],
   "source": [
    "print(type(images), images.shape)\n",
    "print(type(labels), labels.shape)"
   ]
  },
  {
   "cell_type": "code",
   "execution_count": null,
   "metadata": {},
   "outputs": [],
   "source": [
    "model = UNet(img_dim = 3)\n",
    "\n",
    "print(f\"Number of parameters: {sum(p.numel() for p in model.parameters())}\")\n",
    "model"
   ]
  },
  {
   "cell_type": "code",
   "execution_count": null,
   "metadata": {},
   "outputs": [],
   "source": [
    "model_path = '/Users/tanaytuncer/Desktop/diffusion_model/models/240124_model_cosine_res.pth'\n",
    "\n",
    "model = UNet()\n",
    "model.load_state_dict(torch.load(model_path, map_location=torch.device('cpu')))"
   ]
  },
  {
   "cell_type": "code",
   "execution_count": null,
   "metadata": {},
   "outputs": [],
   "source": [
    "model_path"
   ]
  },
  {
   "cell_type": "code",
   "execution_count": null,
   "metadata": {},
   "outputs": [],
   "source": [
    "inception_model = InceptionScore()\n",
    "\n",
    "image_shape = (3, 32, 32)\n",
    "\n",
    "model.eval()\n",
    "\n",
    "for i in tqdm(range(100)):\n",
    "\n",
    "  with torch.no_grad():\n",
    "    generated_image = reverse_diffusion(model, n_batch, T, image_shape)\n",
    "\n",
    "generated_image = generated_image.squeeze(0)\n",
    "generated_image = (generated_image + 1) / 2\n",
    "generated_image = torch.clamp(generated_image, 0, 1)\n",
    "\n",
    "transformed_images = transform_img(generated_image)\n",
    "inception_model.update(transformed_images)\n",
    "\n",
    "avg, std = inception_model.compute()\n",
    "\n",
    "avg, std \n",
    "\n",
    "#Linear: (tensor(1.), tensor(1.9868e-08))\n",
    "#Cosine: (tensor(1.), tensor(1.9868e-08))"
   ]
  }
 ],
 "metadata": {
  "kernelspec": {
   "display_name": "tanaytuncer-3yiFbWzj",
   "language": "python",
   "name": "python3"
  },
  "language_info": {
   "codemirror_mode": {
    "name": "ipython",
    "version": 3
   },
   "file_extension": ".py",
   "mimetype": "text/x-python",
   "name": "python",
   "nbconvert_exporter": "python",
   "pygments_lexer": "ipython3",
   "version": "3.9.6"
  }
 },
 "nbformat": 4,
 "nbformat_minor": 2
}
